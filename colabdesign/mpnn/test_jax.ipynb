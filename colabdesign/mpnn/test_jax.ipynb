{
  "cells": [
    {
      "cell_type": "markdown",
      "metadata": {
        "id": "view-in-github",
        "colab_type": "text"
      },
      "source": [
        "<a href=\"https://colab.research.google.com/github/sokrypton/ColabDesign/blob/v1.0.9/colabdesign/mpnn/test_jax.ipynb\" target=\"_parent\"><img src=\"https://colab.research.google.com/assets/colab-badge.svg\" alt=\"Open In Colab\"/></a>"
      ]
    },
    {
      "cell_type": "code",
      "source": [
        "#@title install\n",
        "%%bash\n",
        "pip -q install git+https://github.com/sokrypton/ColabDesign.git@v1.0.9\n",
        "# for debugging\n",
        "ln -s /usr/local/lib/python3.7/dist-packages/colabdesign colabdesign"
      ],
      "metadata": {
        "id": "7nofzcgaP96j"
      },
      "id": "7nofzcgaP96j",
      "execution_count": null,
      "outputs": []
    },
    {
      "cell_type": "code",
      "execution_count": 1,
      "id": "dcea2f7e",
      "metadata": {
        "id": "dcea2f7e"
      },
      "outputs": [],
      "source": [
        "import numpy as np\n",
        "import os\n",
        "import joblib\n",
        "import jax\n",
        "import jax.numpy as jnp\n",
        "import re\n",
        "import copy\n",
        "import random\n",
        "import haiku as hk\n",
        "from tqdm import tqdm\n",
        "from matplotlib import pyplot as plt\n",
        "\n",
        "from colabdesign.mpnn.utils import tied_featurize, parse_PDB, StructureDatasetPDB\n",
        "from colabdesign.mpnn.modules import RunModel"
      ]
    },
    {
      "cell_type": "markdown",
      "id": "931140c7",
      "metadata": {
        "id": "931140c7"
      },
      "source": [
        "# model"
      ]
    },
    {
      "cell_type": "code",
      "execution_count": 2,
      "id": "23c30e37",
      "metadata": {
        "id": "23c30e37"
      },
      "outputs": [],
      "source": [
        "class MPNN_wrapper:\n",
        "    def __init__(self, params_path=\"/content/colabdesign/mpnn/jax_weights\", model_name=\"v_48_002\"):\n",
        "        self.params_path = params_path\n",
        "        self.model_name = model_name\n",
        "\n",
        "        backbone_noise=0.00  # Standard deviation of Gaussian noise to add to backbone atoms\n",
        "        hidden_dim = 128\n",
        "        num_layers = 3 \n",
        "\n",
        "        if self.params_path[-1] != '/':\n",
        "            self.params_path += '/'\n",
        "        checkpoint_path = self.params_path + f'{self.model_name}.pkl'\n",
        "\n",
        "        checkpoint = joblib.load(checkpoint_path)\n",
        "        params = jax.tree_util.tree_map(jnp.array, checkpoint['model_state_dict'])\n",
        "        print('Number of edges:', checkpoint['num_edges'])\n",
        "        noise_level_print = checkpoint['noise_level']\n",
        "        print(f'Training noise level: {noise_level_print}A')\n",
        "\n",
        "        config = {'num_letters': 21,\n",
        "                'node_features': hidden_dim,\n",
        "                'edge_features': hidden_dim,\n",
        "                'hidden_dim': hidden_dim,\n",
        "                'num_encoder_layers': num_layers,\n",
        "                'num_decoder_layers': num_layers,\n",
        "                'augment_eps': backbone_noise,\n",
        "                'k_neighbors': checkpoint['num_edges'],\n",
        "                'dropout': 0.0\n",
        "                }\n",
        "\n",
        "        model = RunModel(config)\n",
        "        model.params = params\n",
        "        self.model = model\n",
        "\n",
        "        self.alphabet = 'ACDEFGHIKLMNPQRSTVWYX'\n",
        "        self.max_length = 20000\n",
        "    \n",
        "    def set_pred_params(self, pdb_path, designed_chain,\n",
        "                        fixed_chain='', ishomomer=False,\n",
        "                        sampling_temp=0.1, omit_AAs='X'):\n",
        "        self.pdb_path = pdb_path\n",
        "        self.designed_chain = designed_chain\n",
        "        self.fixed_chain = fixed_chain\n",
        "        self.ishomomer = ishomomer\n",
        "        self.batch_size = 1\n",
        "        self.sampling_temp = sampling_temp\n",
        "\n",
        "        # design chains\n",
        "        if designed_chain == '':\n",
        "            self.designed_chain_list = []\n",
        "        else:\n",
        "            self.designed_chain_list = re.sub(\"[^A-Za-z]+\",\",\", designed_chain).split(\",\")\n",
        "        \n",
        "        # fixed chains\n",
        "        if fixed_chain == \"\":\n",
        "            self.fixed_chain_list = []\n",
        "        else:\n",
        "            self.fixed_chain_list = re.sub(\"[^A-Za-z]+\",\",\", fixed_chain).split(\",\")\n",
        "        \n",
        "        #chain list\n",
        "        self.chain_list = list(set(self.designed_chain_list + self.fixed_chain_list))\n",
        "\n",
        "        # omit AAs\n",
        "        omit_AAs_list = omit_AAs\n",
        "        self.omit_AAs_np = np.array([AA in omit_AAs_list for AA in self.alphabet]).astype(np.float32)\n",
        "    \n",
        "        # prepare input\n",
        "        pdb_dict_list = parse_PDB(self.pdb_path, input_chain_list=self.chain_list)\n",
        "        dataset_valid = StructureDatasetPDB(pdb_dict_list, truncate=None, max_length=self.max_length)\n",
        "\n",
        "        chain_id_dict = {}\n",
        "        chain_id_dict[pdb_dict_list[0]['name']]= (self.designed_chain_list, self.fixed_chain_list)\n",
        "\n",
        "        if self.ishomomer:\n",
        "            tied_positions_dict = self.make_tied_positions_for_homomers(pdb_dict_list)\n",
        "        else:\n",
        "            tied_positions_dict = None\n",
        "    \n",
        "    def prep_logits_input(self, pdb_path, designed_chain,\n",
        "                          fixed_chain='', ishomomer=False):\n",
        "        if designed_chain == '':\n",
        "            designed_chain_list = []\n",
        "        else:\n",
        "            designed_chain_list = re.sub(\"[^A-Za-z]+\",\",\", designed_chain).split(\",\")\n",
        "\n",
        "        if fixed_chain == '':\n",
        "            fixed_chain_list = []\n",
        "        else:\n",
        "            fixed_chain_list = re.sub(\"[^A-Za-z]+\",\",\", fixed_chain).split(\",\")\n",
        "        \n",
        "        chain_list = list(set(designed_chain_list + fixed_chain_list))\n",
        "\n",
        "        pdb_dict_list = parse_PDB(pdb_path, input_chain_list=chain_list)\n",
        "        dataset_valid = StructureDatasetPDB(pdb_dict_list, truncate=None, max_length=self.max_length)\n",
        "        chain_id_dict = {}\n",
        "        chain_id_dict[pdb_dict_list[0]['name']]= (designed_chain_list, fixed_chain_list)\n",
        "\n",
        "        if ishomomer:\n",
        "            tied_positions_dict = self.make_tied_positions_for_homomers(pdb_dict_list)\n",
        "        else:\n",
        "            tied_positions_dict = None\n",
        "\n",
        "        protein = dataset_valid[0]\n",
        "        batch_clones = [copy.deepcopy(protein)]\n",
        "        fixed_positions_dict = None\n",
        "        omit_AA_dict = None\n",
        "        pssm_dict = None\n",
        "        bias_by_res_dict = None\n",
        "\n",
        "        (X, S, mask, lengths, chain_M, chain_encoding_all, chain_list_list,\n",
        "         visible_list_list, masked_list_list, masked_chain_length_list_list,\n",
        "         chain_M_pos, omit_AA_mask, residue_idx, dihedral_mask,\n",
        "         tied_pos_list_of_lists_list, pssm_coef, pssm_bias,\n",
        "         pssm_log_odds_all, bias_by_res_all, tied_beta) = tied_featurize(batch_clones,\n",
        "                                                                         chain_id_dict, fixed_positions_dict,\n",
        "                                                                         omit_AA_dict, tied_positions_dict,\n",
        "                                                                         pssm_dict, bias_by_res_dict)\n",
        "        \n",
        "        return {'X': X,\n",
        "                 'S': S,\n",
        "                 'mask': mask,\n",
        "                 'chain_M': chain_M*chain_M_pos,\n",
        "                 'residue_idx': residue_idx,\n",
        "                 'chain_encoding_all': chain_encoding_all}\n",
        "    \n",
        "    def get_logits(self, decode_order, input, seq=None):\n",
        "        if seq is not None:\n",
        "            S = np.asarray([self.alphabet.index(a) for a in seq], dtype=np.int32)\n",
        "            S = S[None, :]\n",
        "            input['S'] = jnp.array(S)\n",
        "        input['randn'] = jnp.expand_dims(decode_order, 0)     \n",
        "        key = jax.random.PRNGKey(0)\n",
        "        return self.model.apply(self.model.params, key, input)[0]\n",
        "\n",
        "    @staticmethod\n",
        "    def make_tied_positions_for_homomers(pdb_dict_list):\n",
        "        my_dict = {}\n",
        "        for result in pdb_dict_list:\n",
        "            all_chain_list = sorted([item[-1:] for item in list(result) if item[:9]=='seq_chain'])  # A, B, C, ...\n",
        "            tied_positions_list = []\n",
        "            chain_length = len(result[f\"seq_chain_{all_chain_list[0]}\"])\n",
        "            for i in range(1,chain_length+1):\n",
        "                temp_dict = {}\n",
        "                for j, chain in enumerate(all_chain_list):\n",
        "                    temp_dict[chain] = [i] #needs to be a list\n",
        "                tied_positions_list.append(temp_dict)\n",
        "            my_dict[result['name']] = tied_positions_list\n",
        "        return my_dict"
      ]
    },
    {
      "cell_type": "code",
      "execution_count": 3,
      "id": "23ef08a0",
      "metadata": {
        "colab": {
          "base_uri": "https://localhost:8080/"
        },
        "id": "23ef08a0",
        "outputId": "d5e1a8bb-bac9-4b0a-d99a-b94eb10eeef0"
      },
      "outputs": [
        {
          "output_type": "stream",
          "name": "stderr",
          "text": [
            "WARNING:absl:No GPU/TPU found, falling back to CPU. (Set TF_CPP_MIN_LOG_LEVEL=0 and rerun for more info.)\n"
          ]
        },
        {
          "output_type": "stream",
          "name": "stdout",
          "text": [
            "Number of edges: 48\n",
            "Training noise level: 0.02A\n"
          ]
        }
      ],
      "source": [
        "wrapper = MPNN_wrapper()"
      ]
    },
    {
      "cell_type": "markdown",
      "id": "1350bfbd",
      "metadata": {
        "id": "1350bfbd"
      },
      "source": [
        "## get_logits"
      ]
    },
    {
      "cell_type": "code",
      "execution_count": 4,
      "id": "228701fa",
      "metadata": {
        "id": "228701fa"
      },
      "outputs": [],
      "source": [
        "H_batch = []\n",
        "config = wrapper.prep_logits_input(pdb_path='/content/colabdesign/mpnn/1P3J.pdb',designed_chain='A')\n",
        "\n",
        "seed = random.randint(0,2147483647)\n",
        "order = jax.random.normal(jax.random.PRNGKey(seed), (len(config[\"residue_idx\"][0]),))\n",
        "logits = wrapper.get_logits(order, config)"
      ]
    },
    {
      "cell_type": "code",
      "execution_count": 5,
      "id": "024d0ad9",
      "metadata": {
        "colab": {
          "base_uri": "https://localhost:8080/"
        },
        "id": "024d0ad9",
        "outputId": "4420ce1c-6f62-495c-8bec-30410838d5b7"
      },
      "outputs": [
        {
          "output_type": "execute_result",
          "data": {
            "text/plain": [
              "DeviceArray([[[ 0.39064622, -1.0170941 , -0.8448451 , ..., -1.3881565 ,\n",
              "               -0.5436939 , -2.0760546 ],\n",
              "              [-1.0061326 , -0.29365587, -0.62056535, ..., -0.44944283,\n",
              "                0.54547304, -1.0063171 ],\n",
              "              [-0.52949464, -0.24696444, -1.0139545 , ..., -0.8602449 ,\n",
              "               -1.0075833 , -0.9707053 ],\n",
              "              ...,\n",
              "              [ 0.07505904, -1.871599  ,  1.0982891 , ..., -2.1363168 ,\n",
              "               -1.7764524 , -2.2191148 ],\n",
              "              [-0.51556355, -1.1978966 , -1.0540409 , ..., -1.3301657 ,\n",
              "               -0.21174452, -1.8705697 ],\n",
              "              [-0.66337556,  0.18112892, -0.86197484, ..., -1.3362936 ,\n",
              "               -1.0082724 , -1.3131907 ]]], dtype=float32)"
            ]
          },
          "metadata": {},
          "execution_count": 5
        }
      ],
      "source": [
        "logits"
      ]
    },
    {
      "cell_type": "code",
      "source": [],
      "metadata": {
        "id": "T_fMvaY2bANv"
      },
      "id": "T_fMvaY2bANv",
      "execution_count": null,
      "outputs": []
    }
  ],
  "metadata": {
    "kernelspec": {
      "display_name": "jax037",
      "language": "python",
      "name": "jax037"
    },
    "language_info": {
      "codemirror_mode": {
        "name": "ipython",
        "version": 3
      },
      "file_extension": ".py",
      "mimetype": "text/x-python",
      "name": "python",
      "nbconvert_exporter": "python",
      "pygments_lexer": "ipython3",
      "version": "3.8.13"
    },
    "colab": {
      "provenance": [],
      "include_colab_link": true
    }
  },
  "nbformat": 4,
  "nbformat_minor": 5
}