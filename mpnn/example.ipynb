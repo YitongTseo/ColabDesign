{
  "cells": [
    {
      "cell_type": "markdown",
      "metadata": {
        "id": "view-in-github",
        "colab_type": "text"
      },
      "source": [
        "<a href=\"https://colab.research.google.com/github/sokrypton/ColabDesign/blob/v1.0.9/mpnn/example.ipynb\" target=\"_parent\"><img src=\"https://colab.research.google.com/assets/colab-badge.svg\" alt=\"Open In Colab\"/></a>"
      ]
    },
    {
      "cell_type": "code",
      "execution_count": 1,
      "id": "7nofzcgaP96j",
      "metadata": {
        "id": "7nofzcgaP96j",
        "cellView": "form"
      },
      "outputs": [],
      "source": [
        "#@title install\n",
        "import os\n",
        "if not os.path.exists(\"colabdesign\"):\n",
        "  os.system(\"pip -q install git+https://github.com/sokrypton/ColabDesign.git@v1.0.9\")\n",
        "  os.system(\"ln -s /usr/local/lib/python3.7/dist-packages/colabdesign colabdesign\")\n",
        "import sys\n",
        "import numpy as np\n",
        "import joblib\n",
        "import jax\n",
        "import jax.numpy as jnp\n",
        "import re\n",
        "import copy\n",
        "import random\n",
        "import haiku as hk\n",
        "from tqdm import tqdm\n",
        "from matplotlib import pyplot as plt\n",
        "\n",
        "from colabdesign.mpnn.wrapper import MPNN_wrapper\n",
        "\n",
        "from google.colab import files\n",
        "def get_pdb(pdb_code=\"\"):\n",
        "  if pdb_code is None or pdb_code == \"\":\n",
        "    upload_dict = files.upload()\n",
        "    pdb_string = upload_dict[list(upload_dict.keys())[0]]\n",
        "    with open(\"tmp.pdb\",\"wb\") as out: out.write(pdb_string)\n",
        "    return \"tmp.pdb\"\n",
        "  else:\n",
        "    os.system(f\"wget -qnc https://files.rcsb.org/view/{pdb_code}.pdb\")\n",
        "    return f\"{pdb_code}.pdb\""
      ]
    },
    {
      "cell_type": "markdown",
      "id": "931140c7",
      "metadata": {
        "id": "931140c7"
      },
      "source": [
        "# Initialize model"
      ]
    },
    {
      "cell_type": "code",
      "execution_count": 2,
      "id": "23ef08a0",
      "metadata": {
        "colab": {
          "base_uri": "https://localhost:8080/"
        },
        "id": "23ef08a0",
        "outputId": "61e31fd4-f171-45ea-fbb4-33f069b495b7"
      },
      "outputs": [
        {
          "output_type": "stream",
          "name": "stdout",
          "text": [
            "Number of edges: 48\n",
            "Training noise level: 0.02A\n"
          ]
        }
      ],
      "source": [
        "params_path = '/content/colabdesign/mpnn/jax_weights'\n",
        "model = MPNN_wrapper(params_path=params_path)"
      ]
    },
    {
      "cell_type": "code",
      "execution_count": 3,
      "id": "b3896466",
      "metadata": {
        "id": "b3896466"
      },
      "outputs": [],
      "source": [
        "# set the provided pdb\n",
        "inputs = model.prep_inputs(pdb_path=get_pdb(\"1P3J\"),\n",
        "                           target_chain='A')"
      ]
    },
    {
      "cell_type": "markdown",
      "id": "1350bfbd",
      "metadata": {
        "id": "1350bfbd"
      },
      "source": [
        "## Get the outputs from MPNN"
      ]
    },
    {
      "cell_type": "code",
      "execution_count": 5,
      "id": "228701fa",
      "metadata": {
        "id": "228701fa"
      },
      "outputs": [],
      "source": [
        "L = len(inputs['dataset_valid'][0]['seq'])\n",
        "seed = random.randint(0,2147483647)\n",
        "order = jax.random.normal(jax.random.PRNGKey(seed), (L,))\n",
        "logits, log_probs = model.score(inputs, order=order)"
      ]
    },
    {
      "cell_type": "code",
      "execution_count": 6,
      "id": "024d0ad9",
      "metadata": {
        "colab": {
          "base_uri": "https://localhost:8080/"
        },
        "id": "024d0ad9",
        "outputId": "5486232d-4e56-42eb-bee7-02f55c58f3a6"
      },
      "outputs": [
        {
          "output_type": "execute_result",
          "data": {
            "text/plain": [
              "((1, 212, 21), (1, 212, 21))"
            ]
          },
          "metadata": {},
          "execution_count": 6
        }
      ],
      "source": [
        "logits.shape, log_probs.shape"
      ]
    },
    {
      "cell_type": "markdown",
      "id": "3acf7c73",
      "metadata": {
        "id": "3acf7c73"
      },
      "source": [
        "## Generate sequences"
      ]
    },
    {
      "cell_type": "code",
      "execution_count": 7,
      "id": "T_fMvaY2bANv",
      "metadata": {
        "id": "T_fMvaY2bANv",
        "outputId": "dc22d82b-8f2c-4b35-b746-213ed5bcff6b",
        "colab": {
          "base_uri": "https://localhost:8080/"
        }
      },
      "outputs": [
        {
          "output_type": "stream",
          "name": "stderr",
          "text": [
            "100%|██████████| 1/1 [00:54<00:00, 54.55s/it]\n"
          ]
        }
      ],
      "source": [
        "# generate sequences\n",
        "seqs = model.sampling(inputs, 1, 1)"
      ]
    },
    {
      "cell_type": "code",
      "execution_count": 8,
      "id": "39616c44",
      "metadata": {
        "id": "39616c44",
        "outputId": "d3167272-c22c-4ba9-88cf-4cf79ec8d231",
        "colab": {
          "base_uri": "https://localhost:8080/"
        }
      },
      "outputs": [
        {
          "output_type": "execute_result",
          "data": {
            "text/plain": [
              "['MNLVLGGLPGSGKSTIGELICEDLGVPLISIDDIYRKAIRENTPLGKEALKYIEKGLLVPNELRIGIIEEELSKEECKNGFVLDGYPCTVEEAEALEEILKKLGRPVDLFIYLEKEREVLRERLLSRLVCTECGRSYNLVYRPPKTPGVCDRCGAKLERPFWHKEEVVEIRLEEYEKRVEPLLEYFRKKGKLRKVDAEKDLNEVYEQVKELL']"
            ]
          },
          "metadata": {},
          "execution_count": 8
        }
      ],
      "source": [
        "seqs"
      ]
    },
    {
      "cell_type": "markdown",
      "id": "791d40a0",
      "metadata": {
        "id": "791d40a0"
      },
      "source": [
        "## Genrate sequences for homomer"
      ]
    },
    {
      "cell_type": "code",
      "execution_count": 9,
      "id": "668ec046",
      "metadata": {
        "id": "668ec046"
      },
      "outputs": [],
      "source": [
        "inputs = model.prep_inputs(pdb_path=get_pdb(\"1O91\"),\n",
        "                           target_chain='A B C',\n",
        "                           ishomomer=True)"
      ]
    },
    {
      "cell_type": "code",
      "execution_count": 10,
      "id": "34518ad9",
      "metadata": {
        "id": "34518ad9",
        "outputId": "ec31ce57-e738-4ac6-8111-184ef46ad400",
        "colab": {
          "base_uri": "https://localhost:8080/"
        }
      },
      "outputs": [
        {
          "output_type": "stream",
          "name": "stderr",
          "text": [
            "100%|██████████| 1/1 [01:34<00:00, 94.32s/it]\n"
          ]
        }
      ],
      "source": [
        "seqs = model.sampling(inputs, 1, 1)"
      ]
    },
    {
      "cell_type": "code",
      "execution_count": 11,
      "id": "58db1d7a",
      "metadata": {
        "id": "58db1d7a",
        "outputId": "44bb12d9-3737-461d-f7c5-13cbd03826fd",
        "colab": {
          "base_uri": "https://localhost:8080/"
        }
      },
      "outputs": [
        {
          "output_type": "execute_result",
          "data": {
            "text/plain": [
              "['EKEAFTANLTTPYPPVGEPIKFDKLLYNGQNVYDPNTGIFTCKTPGVYFFSWHGNVYGKDLHVALYKNDEAIQYSYMEYIEGKVSMVSGSAVIELKPGDKVYLECPTEEANGLYAGEDNHSSFSGFLLYET/EKEAFTANLTTPYPPVGEPIKFDKLLYNGQNVYDPNTGIFTCKTPGVYFFSWHGNVYGKDLHVALYKNDEAIQYSYMEYIEGKVSMVSGSAVIELKPGDKVYLECPTEEANGLYAGEDNHSSFSGFLLYET/EKEAFTANLTTPYPPVGEPIKFDKLLYNGQNVYDPNTGIFTCKTPGVYFFSWHGNVYGKDLHVALYKNDEAIQYSYMEYIEGKVSMVSGSAVIELKPGDKVYLECPTEEANGLYAGEDNHSSFSGFLLYET']"
            ]
          },
          "metadata": {},
          "execution_count": 11
        }
      ],
      "source": [
        "seqs"
      ]
    }
  ],
  "metadata": {
    "colab": {
      "provenance": [],
      "include_colab_link": true
    },
    "kernelspec": {
      "display_name": "Python 3.8.13 ('jax038')",
      "language": "python",
      "name": "python3"
    },
    "language_info": {
      "codemirror_mode": {
        "name": "ipython",
        "version": 3
      },
      "file_extension": ".py",
      "mimetype": "text/x-python",
      "name": "python",
      "nbconvert_exporter": "python",
      "pygments_lexer": "ipython3",
      "version": "3.8.13"
    },
    "vscode": {
      "interpreter": {
        "hash": "d39b7156cdbdfdeaeb5cea9c1b6bf180b493eeb3b22ef2423895aed018ecbde9"
      }
    },
    "accelerator": "GPU",
    "gpuClass": "standard"
  },
  "nbformat": 4,
  "nbformat_minor": 5
}