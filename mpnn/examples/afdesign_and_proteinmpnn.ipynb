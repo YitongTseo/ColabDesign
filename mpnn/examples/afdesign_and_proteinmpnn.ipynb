{
  "cells": [
    {
      "cell_type": "markdown",
      "metadata": {
        "id": "view-in-github",
        "colab_type": "text"
      },
      "source": [
        "<a href=\"https://colab.research.google.com/github/sokrypton/ColabDesign/blob/v1.0.9/mpnn/examples/afdesign_and_proteinmpnn.ipynb\" target=\"_parent\"><img src=\"https://colab.research.google.com/assets/colab-badge.svg\" alt=\"Open In Colab\"/></a>"
      ]
    },
    {
      "cell_type": "markdown",
      "metadata": {
        "id": "OA2k3sAYuiXe"
      },
      "source": [
        "#AfDesign + ProteinMPNN (v1.0.9)\n",
        "Backprop through AlphaFold for protein design.\n",
        "\n",
        "**WARNING**\n",
        "1.   This notebook is in active development and was designed for demonstration purposes only.\n",
        "2.   Using AfDesign as the only \"loss\" function for design might be a bad idea, you may find adversarial sequences (aka. sequences that trick AlphaFold). To avoid this problem, we couple it with ProteinMPNN."
      ]
    },
    {
      "cell_type": "code",
      "execution_count": null,
      "metadata": {
        "cellView": "form",
        "id": "-AXy0s_4cKaK"
      },
      "outputs": [],
      "source": [
        "#@title install\n",
        "%%bash\n",
        "if [ ! -d params ]; then\n",
        "  # get code\n",
        "  pip -q install git+https://github.com/sokrypton/ColabDesign.git@v1.0.9\n",
        "  # for debugging\n",
        "  ln -s /usr/local/lib/python3.7/dist-packages/colabdesign colabdesign\n",
        "  # download params\n",
        "  mkdir params\n",
        "  curl -fsSL https://storage.googleapis.com/alphafold/alphafold_params_2022-03-02.tar | tar x -C params\n",
        "fi"
      ]
    },
    {
      "cell_type": "code",
      "execution_count": null,
      "metadata": {
        "cellView": "form",
        "id": "Vt7G_nbNeSQ3"
      },
      "outputs": [],
      "source": [
        "#@title import libraries\n",
        "import warnings\n",
        "warnings.simplefilter(action='ignore', category=FutureWarning)\n",
        "\n",
        "import os\n",
        "from colabdesign.af import mk_af_model, clear_mem\n",
        "from colabdesign.mpnn import mk_mpnn_model\n",
        "from colabdesign.shared.utils import copy_dict\n",
        "from IPython.display import HTML\n",
        "from google.colab import files\n",
        "import numpy as np\n",
        "from scipy.special import softmax\n",
        "import matplotlib.pyplot as plt\n",
        "\n",
        "#########################\n",
        "def get_pdb(pdb_code=\"\"):\n",
        "  if pdb_code is None or pdb_code == \"\":\n",
        "    upload_dict = files.upload()\n",
        "    pdb_string = upload_dict[list(upload_dict.keys())[0]]\n",
        "    with open(\"tmp.pdb\",\"wb\") as out: out.write(pdb_string)\n",
        "    return \"tmp.pdb\"\n",
        "  else:\n",
        "    os.system(f\"wget -qnc https://files.rcsb.org/view/{pdb_code}.pdb\")\n",
        "    return f\"{pdb_code}.pdb\"\n",
        "\n",
        "from colabdesign.af.alphafold.common import residue_constants\n",
        "def af2mpnn(self, use_seq=False, use_aux=False, get_best=True):\n",
        "  '''extract mpnn input features from alphafold'''\n",
        "  atom_idx = tuple(residue_constants.atom_order[k] for k in [\"N\",\"CA\",\"C\",\"O\"])\n",
        "  if use_aux:\n",
        "    aux = self._tmp[\"best\"][\"aux\"] if (get_best and \"aux\" in self._tmp[\"best\"]) else self.aux\n",
        "    inputs = {\"X\":aux[\"atom_positions\"][None,:,atom_idx],\n",
        "              \"mask\":aux[\"atom_mask\"][None,:,1],\n",
        "              \"residue_idx\":aux[\"residue_index\"][None]}\n",
        "    if use_seq: inputs[\"S\"] = aux[\"aatype\"][None]\n",
        "  else:\n",
        "    I = copy_dict(self._inputs)\n",
        "    inputs = {\"X\":I[\"batch\"][\"all_atom_positions\"][None,:,atom_idx],\n",
        "              \"mask\":I[\"batch\"][\"all_atom_mask\"][None,:,1],\n",
        "              \"residue_idx\":I[\"residue_index\"][None]}\n",
        "    if use_seq: inputs[\"S\"] = I[\"batch\"][\"aatype\"][None]\n",
        "\n",
        "  inputs.update({\"chain_idx\":self._inputs[\"asym_id\"][None],\n",
        "                 \"key\":self.key()})\n",
        "  return inputs\n",
        "\n",
        "def mpnn_callback(mpnn_model=None, update_bias=False):\n",
        "  if mpnn_model is None:\n",
        "    mpnn_model = mk_mpnn_model()\n",
        "  \n",
        "  def get_mpnn_scores(self):\n",
        "    # compute mpnn score\n",
        "    mpnn_inputs = af2mpnn(self, use_aux=True, use_seq=True)\n",
        "    seq_logits = np.array(mpnn_model.get_logits(**mpnn_inputs))[0]\n",
        "    seq = np.eye(20)[self.aux[\"aatype\"]]\n",
        "    self.aux[\"losses\"][\"mpnn\"] = -(seq * np.log(softmax(seq_logits,-1))).sum(-1).mean()\n",
        "\n",
        "    # update bias\n",
        "    if update_bias:\n",
        "      if self.protocol == \"binder\":\n",
        "        mpnn_inputs = af2mpnn(af_model, use_aux=True, use_seq=True)\n",
        "\n",
        "        # get unconditional logits for binder\n",
        "        mpnn_inputs[\"S\"][:,self._target_len:] = -1\n",
        "        mpnn_inputs[\"decoding_order\"] = np.append(np.arange(self._target_len),\n",
        "                                                  np.full(self._binder_len,-1))[None]\n",
        "\n",
        "        seq_logits = np.array(mpnn_model.get_logits(**mpnn_inputs))[0,self._target_len:]\n",
        "\n",
        "      else:\n",
        "        mpnn_inputs = af2mpnn(self, use_aux=True, use_seq=False)\n",
        "        seq_logits = np.array(mpnn_model.get_logits(**mpnn_inputs))[0]\n",
        "\n",
        "      self.opt[\"bias\"] = 0.9 * self.opt[\"bias\"] + 0.1 * seq_logits\n",
        "  return get_mpnn_scores"
      ]
    },
    {
      "cell_type": "markdown",
      "metadata": {
        "id": "UUfKrOzT0gOS"
      },
      "source": [
        "# fixed backbone design (fixbb)\n",
        "For a given protein backbone, generate/design a new sequence that AlphaFold thinks folds into that conformation. "
      ]
    },
    {
      "cell_type": "code",
      "execution_count": null,
      "metadata": {
        "id": "qLd1DsnKzxBJ"
      },
      "outputs": [],
      "source": [
        "clear_mem()\n",
        "mpnn_model = mk_mpnn_model()\n",
        "af_model = mk_af_model(protocol=\"fixbb\")\n",
        "af_model.prep_inputs(pdb_filename=get_pdb(\"1TEN\"), chain=\"A\")\n",
        "\n",
        "print(\"length\",  af_model._len)\n",
        "print(\"weights\", af_model.opt[\"weights\"])"
      ]
    },
    {
      "cell_type": "code",
      "source": [
        "# get unconditional probabilities from mpnn\n",
        "mpnn_inputs = af2mpnn(af_model)\n",
        "seq_logits = np.array(mpnn_model.get_logits(**mpnn_inputs))[0]\n",
        "plt.imshow(softmax(seq_logits,-1).T,vmin=0,vmax=1)"
      ],
      "metadata": {
        "id": "dm4AJIrU2VGD"
      },
      "execution_count": null,
      "outputs": []
    },
    {
      "cell_type": "code",
      "source": [
        "af_model.restart()\n",
        "af_model.set_weights(seq_bias=1.0)\n",
        "af_model.set_seq(bias=seq_logits)\n",
        "af_model.design_3stage(0,200,10)"
      ],
      "metadata": {
        "id": "u0AwskJ84NGx"
      },
      "execution_count": null,
      "outputs": []
    },
    {
      "cell_type": "code",
      "source": [
        "af_model.plot_traj()  "
      ],
      "metadata": {
        "id": "8FB1v7dn1LL6"
      },
      "execution_count": null,
      "outputs": []
    },
    {
      "cell_type": "code",
      "execution_count": null,
      "metadata": {
        "id": "YEApO8YzBoS0"
      },
      "outputs": [],
      "source": [
        "af_model.save_pdb(f\"{af_model.protocol}.pdb\")\n",
        "af_model.plot_pdb()"
      ]
    },
    {
      "cell_type": "code",
      "execution_count": null,
      "metadata": {
        "id": "cW1KQiHKJpfp"
      },
      "outputs": [],
      "source": [
        "HTML(af_model.animate())"
      ]
    },
    {
      "cell_type": "code",
      "source": [
        "af_model.get_seqs()"
      ],
      "metadata": {
        "id": "YDrChASGVUUx"
      },
      "execution_count": null,
      "outputs": []
    },
    {
      "cell_type": "markdown",
      "source": [
        "# hallucination\n",
        "For a given length, generate/hallucinate a protein sequence that AlphaFold thinks folds into a well structured protein (high plddt, low pae, many contacts)."
      ],
      "metadata": {
        "id": "qLwS2s_xcjRI"
      }
    },
    {
      "cell_type": "code",
      "execution_count": null,
      "metadata": {
        "id": "sZnYfCbfEvol"
      },
      "outputs": [],
      "source": [
        "clear_mem()\n",
        "mpnn_model = mk_mpnn_model()\n",
        "af_model = mk_af_model(protocol=\"hallucination\")\n",
        "af_model.prep_inputs(length=100)\n",
        "\n",
        "print(\"length\",af_model._len)\n",
        "print(\"weights\",af_model.opt[\"weights\"])"
      ]
    },
    {
      "cell_type": "code",
      "source": [
        "# pre-design with gumbel initialization and softmax activation\n",
        "af_model.restart()\n",
        "af_model.set_seq(mode=\"gumbel\")\n",
        "af_model.design_soft(50, save_best=True)"
      ],
      "metadata": {
        "id": "BjfCnSkFdtud"
      },
      "execution_count": null,
      "outputs": []
    },
    {
      "cell_type": "code",
      "source": [
        "# lets see what the PDB looks like (if you don't like rerun the cell before)\n",
        "af_model.plot_pdb()"
      ],
      "metadata": {
        "id": "6iJjUbCjmiur"
      },
      "execution_count": null,
      "outputs": []
    },
    {
      "cell_type": "code",
      "source": [
        "# get unconditional probabilities from mpnn\n",
        "mpnn_inputs = af2mpnn(af_model, use_aux=True)\n",
        "seq_logits = np.array(mpnn_model.get_logits(**mpnn_inputs))[0]\n",
        "plt.imshow(softmax(seq_logits,-1).T,vmin=0,vmax=1)"
      ],
      "metadata": {
        "id": "f76xqCkw0vj9"
      },
      "execution_count": null,
      "outputs": []
    },
    {
      "cell_type": "code",
      "source": [
        "af_model.opt[\"bias\"]"
      ],
      "metadata": {
        "id": "6ne544fS1xBz"
      },
      "execution_count": null,
      "outputs": []
    },
    {
      "cell_type": "code",
      "source": [
        "# three stage design\n",
        "af_model.clear_best()\n",
        "af_model.set_weights(seq_bias=1.0)\n",
        "af_model.set_seq(bias=seq_logits)\n",
        "af_model.design_3stage(0, 100, 10, callback=mpnn_callback(mpnn_model, update_bias=True))"
      ],
      "metadata": {
        "id": "rLib6O28nXZo"
      },
      "execution_count": null,
      "outputs": []
    },
    {
      "cell_type": "code",
      "source": [
        "af_model.save_pdb(f\"{af_model.protocol}.pdb\")\n",
        "af_model.plot_pdb()"
      ],
      "metadata": {
        "id": "BkP5Jcqyo9wO"
      },
      "execution_count": null,
      "outputs": []
    },
    {
      "cell_type": "code",
      "execution_count": null,
      "metadata": {
        "id": "L2E9Tn2Acchj"
      },
      "outputs": [],
      "source": [
        "HTML(af_model.animate())"
      ]
    },
    {
      "cell_type": "code",
      "execution_count": null,
      "metadata": {
        "id": "YSKWYu0_GlUH"
      },
      "outputs": [],
      "source": [
        "af_model.get_seqs()"
      ]
    },
    {
      "cell_type": "markdown",
      "source": [
        "# binder hallucination\n",
        "For a given protein target and protein binder length, generate/hallucinate a protein binder sequence AlphaFold thinks will bind to the target structure.\n",
        "To do this, we minimize PAE and maximize number of contacts at the interface and within the binder, and we maximize pLDDT of the binder."
      ],
      "metadata": {
        "id": "NmST5DdwK6FD"
      }
    },
    {
      "cell_type": "code",
      "source": [
        "clear_mem()\n",
        "mpnn_model = mk_mpnn_model()\n",
        "af_model = mk_af_model(protocol=\"binder\")\n",
        "af_model.prep_inputs(pdb_filename=get_pdb(\"4MZK\"), chain=\"A\", binder_len=19)\n",
        "\n",
        "print(\"target_length\",af_model._target_len)\n",
        "print(\"binder_length\",af_model._binder_len)\n",
        "print(\"weights\",af_model.opt[\"weights\"])"
      ],
      "metadata": {
        "id": "eGm_9CGTK-HJ"
      },
      "execution_count": null,
      "outputs": []
    },
    {
      "cell_type": "code",
      "source": [
        "af_model.set_seq()\n",
        "af_model.design_logits(50, save_best=True)"
      ],
      "metadata": {
        "id": "YOp6rKJgK_5H"
      },
      "execution_count": null,
      "outputs": []
    },
    {
      "cell_type": "code",
      "source": [
        "mpnn_inputs = af2mpnn(af_model, use_aux=True, use_seq=True)\n",
        "\n",
        "# get unconditional logits for binder\n",
        "mpnn_inputs[\"S\"][:,af_model._target_len:] = -1\n",
        "mpnn_inputs[\"decoding_order\"] = np.append(np.arange(af_model._target_len),\n",
        "                                          np.full(af_model._binder_len,-1))[None]\n",
        "\n",
        "seq_logits = np.array(mpnn_model.get_logits(**mpnn_inputs))[0]\n",
        "seq_logits = seq_logits[af_model._target_len:]\n",
        "\n",
        "plt.figure(dpi=100)\n",
        "plt.imshow(softmax(seq_logits,-1).T,vmin=0,vmax=1)\n",
        "plt.xlabel(\"positions\");plt.ylabel(\"amino_acids\")\n",
        "plt.show()"
      ],
      "metadata": {
        "id": "KIo1AhrkOFLb"
      },
      "execution_count": null,
      "outputs": []
    },
    {
      "cell_type": "code",
      "source": [
        "af_model.clear_best()\n",
        "af_model.set_seq(bias=seq_logits)\n",
        "af_model.set_weights(seq_bias=1.0)\n",
        "af_model.design_3stage(0, 100, 10, callback=mpnn_callback(mpnn_model, update_bias=True))"
      ],
      "metadata": {
        "id": "mLzhS9pXcrj5"
      },
      "execution_count": null,
      "outputs": []
    },
    {
      "cell_type": "code",
      "source": [
        "af_model.save_pdb(f\"{af_model.protocol}.pdb\")\n",
        "af_model.plot_pdb()"
      ],
      "metadata": {
        "id": "HqjOhWSXz1Bh"
      },
      "execution_count": null,
      "outputs": []
    },
    {
      "cell_type": "code",
      "source": [
        "HTML(af_model.animate())"
      ],
      "metadata": {
        "id": "3_12tl5V2bz2"
      },
      "execution_count": null,
      "outputs": []
    },
    {
      "cell_type": "code",
      "source": [
        "af_model.get_seqs()"
      ],
      "metadata": {
        "id": "uR1KAl1h2dKk"
      },
      "execution_count": null,
      "outputs": []
    },
    {
      "cell_type": "code",
      "source": [],
      "metadata": {
        "id": "DPlbTAmxyntf"
      },
      "execution_count": null,
      "outputs": []
    }
  ],
  "metadata": {
    "accelerator": "GPU",
    "colab": {
      "collapsed_sections": [
        "UUfKrOzT0gOS",
        "qLwS2s_xcjRI"
      ],
      "provenance": [],
      "include_colab_link": true
    },
    "kernelspec": {
      "display_name": "Python 3",
      "name": "python3"
    },
    "language_info": {
      "name": "python"
    }
  },
  "nbformat": 4,
  "nbformat_minor": 0
}