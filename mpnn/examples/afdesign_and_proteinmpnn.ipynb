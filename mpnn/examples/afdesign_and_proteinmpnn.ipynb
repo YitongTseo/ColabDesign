{
  "cells": [
    {
      "cell_type": "markdown",
      "metadata": {
        "id": "view-in-github",
        "colab_type": "text"
      },
      "source": [
        "<a href=\"https://colab.research.google.com/github/sokrypton/ColabDesign/blob/v1.0.9/mpnn/examples/afdesign_and_proteinmpnn.ipynb\" target=\"_parent\"><img src=\"https://colab.research.google.com/assets/colab-badge.svg\" alt=\"Open In Colab\"/></a>"
      ]
    },
    {
      "cell_type": "markdown",
      "metadata": {
        "id": "OA2k3sAYuiXe"
      },
      "source": [
        "#AfDesign + ProteinMPNN (v1.0.9)\n",
        "Backprop through AlphaFold for protein design.\n",
        "\n",
        "**WARNING**\n",
        "1.   This notebook is in active development and was designed for demonstration purposes only.\n",
        "2.   Using AfDesign as the only \"loss\" function for design might be a bad idea, you may find adversarial sequences (aka. sequences that trick AlphaFold). To avoid this problem, we couple it with ProteinMPNN."
      ]
    },
    {
      "cell_type": "code",
      "execution_count": null,
      "metadata": {
        "cellView": "form",
        "id": "-AXy0s_4cKaK"
      },
      "outputs": [],
      "source": [
        "#@title install\n",
        "%%bash\n",
        "if [ ! -d params ]; then\n",
        "  # get code\n",
        "  pip -q install git+https://github.com/sokrypton/ColabDesign.git@v1.0.9\n",
        "  # for debugging\n",
        "  ln -s /usr/local/lib/python3.7/dist-packages/colabdesign colabdesign\n",
        "  # download params\n",
        "  mkdir params\n",
        "  curl -fsSL https://storage.googleapis.com/alphafold/alphafold_params_2022-03-02.tar | tar x -C params\n",
        "fi"
      ]
    },
    {
      "cell_type": "code",
      "execution_count": null,
      "metadata": {
        "cellView": "form",
        "id": "Vt7G_nbNeSQ3"
      },
      "outputs": [],
      "source": [
        "#@title import libraries\n",
        "import warnings\n",
        "warnings.simplefilter(action='ignore', category=FutureWarning)\n",
        "import os\n",
        "os.environ['XLA_PYTHON_CLIENT_PREALLOCATE'] = 'false'\n",
        "\n",
        "from colabdesign.af import mk_af_model, clear_mem\n",
        "from colabdesign.af.alphafold.common import residue_constants\n",
        "from colabdesign.mpnn import mk_mpnn_model\n",
        "from colabdesign.shared.utils import copy_dict\n",
        "from IPython.display import HTML\n",
        "from google.colab import files\n",
        "\n",
        "import numpy as np\n",
        "from scipy.special import softmax\n",
        "import matplotlib.pyplot as plt\n",
        "import jax\n",
        "import jax.numpy as jnp\n",
        "\n",
        "def get_pdb(pdb_code=\"\"):\n",
        "  if pdb_code is None or pdb_code == \"\":\n",
        "    upload_dict = files.upload()\n",
        "    pdb_string = upload_dict[list(upload_dict.keys())[0]]\n",
        "    with open(\"tmp.pdb\",\"wb\") as out: out.write(pdb_string)\n",
        "    return \"tmp.pdb\"\n",
        "  else:\n",
        "    os.system(f\"wget -qnc https://files.rcsb.org/view/{pdb_code}.pdb\")\n",
        "    return f\"{pdb_code}.pdb\"\n",
        "\n",
        "def setup_mpnn(self, precompute=True, entropy=False, backprop=False):\n",
        "  mpnn_atom_idx = tuple(residue_constants.atom_order[k] for k in [\"N\",\"CA\",\"C\",\"O\"])\n",
        "  \n",
        "  def loss_callback(inputs, aux, opt, key):\n",
        "    if precompute:\n",
        "      logits = opt[\"mpnn\"]\n",
        "    \n",
        "    else:\n",
        "      I = {\"X\":           aux[\"atom_positions\"][None,:,mpnn_atom_idx],\n",
        "           \"mask\":        aux[\"atom_mask\"][None,:,1],\n",
        "           \"residue_idx\": inputs[\"residue_index\"][None],\n",
        "           \"chain_idx\":   inputs[\"asym_id\"][None],\n",
        "           \"key\":         key}      \n",
        "      \n",
        "      if self.protocol == \"binder\":\n",
        "        L = self._target_len\n",
        "        logits = mk_mpnn_model().get_logits(**I)[0,L:]\n",
        "      else:\n",
        "        L = self._params[\"seq\"].shape[1]\n",
        "        logits = mk_mpnn_model().get_logits(**I)[0,:L]\n",
        "\n",
        "      logits = aux[\"mpnn\"] = logits if backprop else jax.lax.stop_gradient(logits)\n",
        "\n",
        "    # define loss function\n",
        "    log_q = jax.nn.log_softmax(logits)\n",
        "    if entropy:\n",
        "      # maximize entropy of mpnn output (aka increase confidence of mpnn)\n",
        "      q = jax.nn.softmax(logits)\n",
        "      mpnn_loss = -(q * log_q).sum(-1).mean()\n",
        "    else:\n",
        "      # minimize similarity to mpnn output\n",
        "      p = inputs[\"seq\"][\"soft\"]\n",
        "      mpnn_loss = -(p * log_q).sum(-1).mean()\n",
        "\n",
        "    return {\"mpnn_loss\":mpnn_loss}  \n",
        "  \n",
        "  if precompute:\n",
        "    inputs = self._inputs\n",
        "    I = {\"X\":           inputs[\"batch\"][\"all_atom_positions\"][None,:,mpnn_atom_idx],\n",
        "         \"mask\":        inputs[\"batch\"][\"all_atom_mask\"][None,:,1],\n",
        "         \"residue_idx\": inputs[\"residue_index\"][None],\n",
        "         \"chain_idx\":   inputs[\"asym_id\"][None],\n",
        "         \"key\":         self.key()}\n",
        "    if self.protocol == \"binder\":\n",
        "      L = self._target_len\n",
        "      logits = mk_mpnn_model().get_logits(**I)[0,L:]\n",
        "    else:\n",
        "      L = self._params[\"seq\"].shape[1]\n",
        "      logits = mk_mpnn_model().get_logits(**I)[0,:L]\n",
        "\n",
        "    logits = np.asarray(logits)\n",
        "    self.opt[\"mpnn\"] = logits\n",
        "\n",
        "  else:\n",
        "    def design_callback(self):\n",
        "      self._inputs[\"bias\"] = 0.99 * self._inputs[\"bias\"] + 0.01 * self.aux[\"mpnn\"]\n",
        "    self._callbacks[\"design\"][\"post\"].append(design_callback)\n",
        "\n",
        "  self._callbacks[\"model\"][\"loss\"].append(loss_callback)\n",
        "  self.opt[\"weights\"][\"mpnn_loss\"] = 1.0"
      ]
    },
    {
      "cell_type": "markdown",
      "metadata": {
        "id": "UUfKrOzT0gOS"
      },
      "source": [
        "# fixed backbone design (fixbb)\n",
        "For a given protein backbone, generate/design a new sequence that AlphaFold thinks folds into that conformation. "
      ]
    },
    {
      "cell_type": "code",
      "execution_count": null,
      "metadata": {
        "id": "qLd1DsnKzxBJ"
      },
      "outputs": [],
      "source": [
        "clear_mem()\n",
        "mpnn_model = mk_mpnn_model()\n",
        "af_model = mk_af_model(protocol=\"fixbb\")\n",
        "af_model.prep_inputs(pdb_filename=get_pdb(\"1TEN\"), chain=\"A\")\n",
        "setup_mpnn(af_model, precompute=True)\n",
        "\n",
        "print(\"length\",  af_model._len)\n",
        "print(\"weights\", af_model.opt[\"weights\"])"
      ]
    },
    {
      "cell_type": "code",
      "source": [
        "# precompute unconditional probabilities from mpnn\n",
        "print(\"max_mpnn_loss\",-np.log(softmax(af_model.opt[\"mpnn\"],-1)).max(-1).mean())\n",
        "plt.imshow(softmax(af_model.opt[\"mpnn\"],-1).T,vmin=0,vmax=1)"
      ],
      "metadata": {
        "id": "dm4AJIrU2VGD"
      },
      "execution_count": null,
      "outputs": []
    },
    {
      "cell_type": "code",
      "source": [
        "af_model.restart()\n",
        "af_model.set_seq(bias=af_model.opt[\"mpnn\"])\n",
        "af_model.set_weights(mpnn_loss=0.1)\n",
        "af_model.design_3stage(0,200,10)"
      ],
      "metadata": {
        "id": "u0AwskJ84NGx"
      },
      "execution_count": null,
      "outputs": []
    },
    {
      "cell_type": "code",
      "source": [
        "af_model.plot_traj()"
      ],
      "metadata": {
        "id": "8FB1v7dn1LL6"
      },
      "execution_count": null,
      "outputs": []
    },
    {
      "cell_type": "code",
      "execution_count": null,
      "metadata": {
        "id": "YEApO8YzBoS0"
      },
      "outputs": [],
      "source": [
        "af_model.save_pdb(f\"{af_model.protocol}.pdb\")\n",
        "af_model.plot_pdb()"
      ]
    },
    {
      "cell_type": "code",
      "execution_count": null,
      "metadata": {
        "id": "cW1KQiHKJpfp"
      },
      "outputs": [],
      "source": [
        "HTML(af_model.animate())"
      ]
    },
    {
      "cell_type": "code",
      "source": [
        "af_model.get_seqs()"
      ],
      "metadata": {
        "id": "YDrChASGVUUx"
      },
      "execution_count": null,
      "outputs": []
    },
    {
      "cell_type": "markdown",
      "source": [
        "# hallucination\n",
        "For a given length, generate/hallucinate a protein sequence that AlphaFold thinks folds into a well structured protein (high plddt, low pae, many contacts)."
      ],
      "metadata": {
        "id": "qLwS2s_xcjRI"
      }
    },
    {
      "cell_type": "code",
      "execution_count": null,
      "metadata": {
        "id": "sZnYfCbfEvol"
      },
      "outputs": [],
      "source": [
        "clear_mem()\n",
        "af_model = mk_af_model(protocol=\"hallucination\")\n",
        "af_model.prep_inputs(length=100)\n",
        "setup_mpnn(af_model, precompute=False)\n",
        "\n",
        "print(\"length\",af_model._len)\n",
        "print(\"weights\",af_model.opt[\"weights\"])"
      ]
    },
    {
      "cell_type": "code",
      "source": [
        "# pre-design with gumbel initialization and softmax activation\n",
        "af_model.restart()\n",
        "af_model.set_seq(mode=\"gumbel\")\n",
        "af_model.set_weights(mpnn_loss=0.01)\n",
        "af_model.design_soft(100)"
      ],
      "metadata": {
        "id": "BjfCnSkFdtud"
      },
      "execution_count": null,
      "outputs": []
    },
    {
      "cell_type": "code",
      "source": [
        "# lets see what the PDB looks like (if you don't like rerun the cell before)\n",
        "af_model.plot_pdb()"
      ],
      "metadata": {
        "id": "6iJjUbCjmiur"
      },
      "execution_count": null,
      "outputs": []
    },
    {
      "cell_type": "code",
      "source": [
        "af_model.set_weights(mpnn_loss=0.1)\n",
        "af_model.design_3stage(0, 100, 10)"
      ],
      "metadata": {
        "id": "_WcwTwYc1lsB"
      },
      "execution_count": null,
      "outputs": []
    },
    {
      "cell_type": "code",
      "source": [
        "af_model.save_pdb(f\"{af_model.protocol}.pdb\")\n",
        "af_model.plot_pdb()"
      ],
      "metadata": {
        "id": "BkP5Jcqyo9wO"
      },
      "execution_count": null,
      "outputs": []
    },
    {
      "cell_type": "code",
      "execution_count": null,
      "metadata": {
        "id": "L2E9Tn2Acchj"
      },
      "outputs": [],
      "source": [
        "HTML(af_model.animate())"
      ]
    },
    {
      "cell_type": "code",
      "execution_count": null,
      "metadata": {
        "id": "YSKWYu0_GlUH"
      },
      "outputs": [],
      "source": [
        "af_model.get_seqs()"
      ]
    },
    {
      "cell_type": "markdown",
      "source": [
        "# binder hallucination\n",
        "For a given protein target and protein binder length, generate/hallucinate a protein binder sequence AlphaFold thinks will bind to the target structure.\n",
        "To do this, we minimize PAE and maximize number of contacts at the interface and within the binder, and we maximize pLDDT of the binder."
      ],
      "metadata": {
        "id": "NmST5DdwK6FD"
      }
    },
    {
      "cell_type": "code",
      "source": [
        "clear_mem()\n",
        "mpnn_model = mk_mpnn_model()\n",
        "af_model = mk_af_model(protocol=\"binder\")\n",
        "af_model.prep_inputs(pdb_filename=get_pdb(\"4MZK\"), chain=\"A\", binder_len=18)\n",
        "setup_mpnn(af_model, precompute=False)\n",
        "\n",
        "print(\"target_length\",af_model._target_len)\n",
        "print(\"binder_length\",af_model._binder_len)\n",
        "print(\"weights\",af_model.opt[\"weights\"])"
      ],
      "metadata": {
        "id": "eGm_9CGTK-HJ"
      },
      "execution_count": null,
      "outputs": []
    },
    {
      "cell_type": "code",
      "source": [
        "af_model.restart()\n",
        "af_model.set_weights(mpnn_loss=0.01)\n",
        "af_model.design_3stage(100,0,0)\n",
        "af_model.set_weights(mpnn_loss=0.1)\n",
        "af_model.design_3stage(0,100,10)"
      ],
      "metadata": {
        "id": "V6CGldG6Ulhz"
      },
      "execution_count": null,
      "outputs": []
    },
    {
      "cell_type": "code",
      "source": [
        "af_model.save_pdb(f\"{af_model.protocol}.pdb\")\n",
        "af_model.plot_pdb()"
      ],
      "metadata": {
        "id": "HqjOhWSXz1Bh"
      },
      "execution_count": null,
      "outputs": []
    },
    {
      "cell_type": "code",
      "source": [
        "HTML(af_model.animate())"
      ],
      "metadata": {
        "id": "3_12tl5V2bz2"
      },
      "execution_count": null,
      "outputs": []
    },
    {
      "cell_type": "code",
      "source": [
        "af_model.get_seqs()"
      ],
      "metadata": {
        "id": "uR1KAl1h2dKk"
      },
      "execution_count": null,
      "outputs": []
    },
    {
      "cell_type": "code",
      "source": [],
      "metadata": {
        "id": "DPlbTAmxyntf"
      },
      "execution_count": null,
      "outputs": []
    }
  ],
  "metadata": {
    "accelerator": "GPU",
    "colab": {
      "collapsed_sections": [
        "UUfKrOzT0gOS",
        "qLwS2s_xcjRI"
      ],
      "provenance": [],
      "include_colab_link": true
    },
    "kernelspec": {
      "display_name": "Python 3",
      "name": "python3"
    },
    "language_info": {
      "name": "python"
    }
  },
  "nbformat": 4,
  "nbformat_minor": 0
}